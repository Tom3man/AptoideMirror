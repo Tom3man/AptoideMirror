{
 "cells": [
  {
   "cell_type": "code",
   "execution_count": 5,
   "metadata": {},
   "outputs": [],
   "source": [
    "import pandas as pd\n",
    "from bs4 import BeautifulSoup\n",
    "\n",
    "import string\n",
    "\n",
    "import logging\n",
    "logging.basicConfig(level=logging.INFO, format='%(asctime)s :: %(levelname)s :: %(message)s')\n",
    "\n",
    "import time\n",
    "\n",
    "from common import webscraping_tools\n",
    "\n",
    "from abc import ABC"
   ]
  },
  {
   "cell_type": "code",
   "execution_count": 23,
   "metadata": {},
   "outputs": [],
   "source": [
    "from abc import abstractmethod\n",
    "\n",
    "\n",
    "class AptoideScrapeTemplate(ABC):\n",
    "\n",
    "    \"\"\"\n",
    "    \"\"\"\n",
    "\n",
    "    def __init__(self, log: bool):\n",
    "\n",
    "        self.log = log\n",
    "        self.run()\n",
    "\n",
    "    def run(self):\n",
    "\n",
    "        # Extract the raw page HTML and parse with bs4\n",
    "        if self.log:\n",
    "            logging.info(f\"Extracting raw page info from URL: {self.url}.\")\n",
    "\n",
    "        try:\n",
    "            self.app_page = BeautifulSoup(webscraping_tools.user_agent_randomiser(self.url).content, 'html.parser')\n",
    "            if self.log:\n",
    "                time.sleep(1)\n",
    "                logging.info(f\"Raw page info for {self.url} successfully extracted.\")\n",
    "        except: \n",
    "            raise ValueError(\"Supplied URL returned no response\")\n",
    "\n",
    "        self._extract_main_div_html(div_name='header-desktop__HeaderContainer-xc5gow-0 eBfMrO')\n",
    "        self._app_version_div_container(div_name='mini-versions__Version-sc-19sko2j-4 ikysfs')\n",
    "        self._stats_div_container(div_name='mini-stats__Row-sc-188veh1-2 kSzdYC')\n",
    "        self._description_container(div_name='description__Paragraph-sc-45j1b1-1 daWyZe')\n",
    "\n",
    "\n",
    "    @staticmethod\n",
    "    def _check_response(div_name: str, method: object):\n",
    "        \"\"\"\n",
    "        Static helper method that checks if the HTML response is None\n",
    "        \"\"\"\n",
    "        if not method:\n",
    "            raise ValueError(f\"Main container could not be extracted using supplied div-class name: {div_name}.\")\n",
    "\n",
    "    def _extract_main_div_html(self, div_name: str):\n",
    "\n",
    "        # Filter the raw HTML to include just the main div container\n",
    "        # Risk here using div name as this may change server-side\n",
    "        self.div_container_main_html = self.app_page.find('div', {'class': div_name})\n",
    "        self._check_response(div_name=div_name, method=self.div_container_main_html)\n",
    "\n",
    "    def _app_version_div_container(self, div_name: str) -> str:\n",
    "\n",
    "        self.app_version_container = self.app_page.find('div', {'class': div_name})\n",
    "        self._check_response(div_name=div_name, method=self.app_version_container)\n",
    "\n",
    "    def _stats_div_container(self, div_name: str):\n",
    "\n",
    "        self.stats_container = self.app_page.find('div', {'class': div_name})\n",
    "        self._check_response(div_name=div_name, method=self.stats_container)\n",
    "\n",
    "    def _description_container(self, div_name: str):\n",
    "\n",
    "        self.desc_container = self.app_page.find('p', {'class': div_name})\n",
    "        self._check_response(div_name=div_name, method=self.desc_container)"
   ]
  },
  {
   "cell_type": "code",
   "execution_count": 24,
   "metadata": {},
   "outputs": [],
   "source": [
    "\n",
    "class GetPageInfo(AptoideScrapeTemplate):\n",
    "\n",
    "    \"\"\"\n",
    "    This class is used to extract app information from the aptoide website when given a specific url string for an application. \n",
    "    It compiles the relevant information as property methods. \n",
    "    After initial compiling, running the extract method will return the following in string format:\n",
    "        - app name\n",
    "        - app version\n",
    "        - version release date\n",
    "        - number of downloads \n",
    "        - app description\n",
    "        - app requirements for android devices\n",
    "\n",
    "    \"\"\"\n",
    "\n",
    "    def __init__(self, url: str, log=False):\n",
    "\n",
    "        self.url = url\n",
    "        super().__init__(log=log)\n",
    "\n",
    "    @property\n",
    "    def app_name(self) -> str:\n",
    "        return self.div_container_main_html.find(\"h1\").text\n",
    "\n",
    "    @property\n",
    "    def app_version(self) -> str:\n",
    "        return self.app_version_container.find_all('div')[0].text\n",
    "\n",
    "    @property\n",
    "    def app_release_date(self) -> str:\n",
    "        return ''.join(char for char in self.app_version_container.find_all('div')[1].text if char in string.digits + \"-\")\n",
    "\n",
    "    @property\n",
    "    def app_downloads(self) -> str:\n",
    "        return self.stats_container.find_all('div')[0].text.split(' ')[0]\n",
    "\n",
    "    @property\n",
    "    def app_size(self) -> str:\n",
    "        return self.stats_container.find_all('div')[2].text.split(' ')[0]\n",
    "\n",
    "    @property\n",
    "    def app_requirements(self) -> str:\n",
    "        return self.stats_container.find_all('div')[4].text\n",
    "\n",
    "    @property\n",
    "    def app_description(self) -> str:\n",
    "\n",
    "        paragraphs = []\n",
    "        for paragraph in self.desc_container:\n",
    "            if len(paragraph) > 2:\n",
    "                paragraphs.append(paragraph.text)\n",
    "\n",
    "        return '\\n'.join(paragraphs)\n",
    "\n",
    "    @property\n",
    "    def app_display_photo_url(self):\n",
    "        return self.div_container_main_html.find('img')['src']\n"
   ]
  },
  {
   "cell_type": "code",
   "execution_count": 25,
   "metadata": {},
   "outputs": [],
   "source": [
    "s = GetPageInfo(url='https://instagram.en.aptoide.com/app')\n"
   ]
  },
  {
   "cell_type": "code",
   "execution_count": null,
   "metadata": {},
   "outputs": [],
   "source": []
  },
  {
   "cell_type": "code",
   "execution_count": null,
   "metadata": {},
   "outputs": [],
   "source": []
  },
  {
   "cell_type": "code",
   "execution_count": null,
   "metadata": {},
   "outputs": [],
   "source": [
    "class ScrapeAptoidWebsite(ScrapeAppPage):\n",
    "\n",
    "    \"\"\"\n",
    "    This is an abstract class that can inherit from the ScrapeAppPage class. \n",
    "    This class is used to scrape all apps on the aptoid website and return a data frame with all relevant information.\n",
    "    \"\"\"\n",
    "    def __init__(self): \n",
    "        super().__init__()\n",
    "\n",
    "    HOME_URL = 'https://en.aptoide.com/group/applications'\n",
    "\n",
    "    \n",
    "\n",
    "    "
   ]
  },
  {
   "cell_type": "code",
   "execution_count": null,
   "metadata": {},
   "outputs": [],
   "source": []
  },
  {
   "cell_type": "code",
   "execution_count": null,
   "metadata": {},
   "outputs": [],
   "source": []
  },
  {
   "cell_type": "code",
   "execution_count": 27,
   "metadata": {},
   "outputs": [
    {
     "name": "stderr",
     "output_type": "stream",
     "text": [
      "2022-08-29 15:57:04,067 :: INFO :: Extracting raw page info from URL: https://linkedin-android.en.aptoide.com/app.\n",
      "2022-08-29 15:57:06,440 :: INFO :: Raw page info for https://linkedin-android.en.aptoide.com/app successfully extracted.\n"
     ]
    }
   ],
   "source": [
    "url = 'https://linkedin-android.en.aptoide.com/app'\n",
    "\n",
    "# Extract the raw page HTML and parse with bs4\n",
    "logging.info(f\"Extracting raw page info from URL: {url}.\")\n",
    "\n",
    "try:\n",
    "    app_page = BeautifulSoup(webscraping_tools.user_agent_randomiser(url).content, 'html.parser')\n",
    "    time.sleep(1)\n",
    "    logging.info(f\"Raw page info for {url} successfully extracted.\")\n",
    "except: \n",
    "    raise ValueError(\"Supplied URL returned no response\")\n"
   ]
  },
  {
   "cell_type": "code",
   "execution_count": null,
   "metadata": {},
   "outputs": [],
   "source": []
  },
  {
   "cell_type": "code",
   "execution_count": 28,
   "metadata": {},
   "outputs": [],
   "source": [
    "# Filter the raw HTML to include just the main div container\n",
    "# Risk here using div name as this may change server-side\n",
    "\n",
    "div_container_main_str = 'header-desktop__HeaderContainer-xc5gow-0 eBfMrO'\n",
    "\n",
    "div_container_main_html = app_page.find('div', {'class': div_container_main_str})\n",
    "if not div_container_main_html:\n",
    "    logging.debug(f\"Main container could not be extracted using supplied div-class name: {div_container_main_str}.\")"
   ]
  },
  {
   "cell_type": "code",
   "execution_count": 29,
   "metadata": {},
   "outputs": [],
   "source": [
    "\n",
    "\n",
    "\n",
    "\n",
    "app_name = div_container_main_html.find(\"h1\").text"
   ]
  },
  {
   "cell_type": "code",
   "execution_count": 30,
   "metadata": {},
   "outputs": [],
   "source": [
    "VERSION_CONTAINER_CLS_NAME = \"mini-versions__Version-sc-19sko2j-4 ikysfs\"\n",
    "\n",
    "version_container = app_page.find('div', {'class': VERSION_CONTAINER_CLS_NAME})"
   ]
  },
  {
   "cell_type": "code",
   "execution_count": 31,
   "metadata": {},
   "outputs": [],
   "source": [
    "app_version = version_container.find_all('div')[0].text\n",
    "app_version_release = ''.join(char for char in version_container.find_all('div')[1].text if char in string.digits + \"-\")"
   ]
  },
  {
   "cell_type": "code",
   "execution_count": 32,
   "metadata": {},
   "outputs": [
    {
     "data": {
      "text/plain": [
       "'04-08-2022'"
      ]
     },
     "execution_count": 32,
     "metadata": {},
     "output_type": "execute_result"
    }
   ],
   "source": [
    "app_version_release"
   ]
  },
  {
   "cell_type": "code",
   "execution_count": 33,
   "metadata": {},
   "outputs": [],
   "source": [
    "STATS_CONTAINER_CLS_NAME = 'mini-stats__Row-sc-188veh1-2 kSzdYC'\n",
    "\n",
    "stats_container = app_page.find('div', {'class': STATS_CONTAINER_CLS_NAME})\n",
    "\n",
    "app_downloads = stats_container.find_all('div')[0].text.split(' ')[0]\n",
    "\n",
    "app_size = stats_container.find_all('div')[2].text.split(' ')[0]\n",
    "\n",
    "android_requirements = stats_container.find_all('div')[4].text"
   ]
  },
  {
   "cell_type": "code",
   "execution_count": 34,
   "metadata": {},
   "outputs": [
    {
     "data": {
      "text/plain": [
       "'8.1.0+'"
      ]
     },
     "execution_count": 34,
     "metadata": {},
     "output_type": "execute_result"
    }
   ],
   "source": [
    "android_requirements"
   ]
  },
  {
   "cell_type": "code",
   "execution_count": 35,
   "metadata": {},
   "outputs": [],
   "source": [
    "DESC_CONTAINER_CLS_NAME = 'description__Paragraph-sc-45j1b1-1 daWyZe'\n",
    "\n",
    "app_description = []\n",
    "stats_container = app_page.find('p', {'class': DESC_CONTAINER_CLS_NAME})\n",
    "\n",
    "for paragraph in stats_container.contents:\n",
    "    if len(paragraph) > 2:\n",
    "        app_description.append(paragraph.text)\n",
    "\n",
    "app_description = '\\n\\n'.join(app_description)"
   ]
  },
  {
   "cell_type": "code",
   "execution_count": 36,
   "metadata": {},
   "outputs": [],
   "source": [
    "app_description = '\\n\\n'.join(app_description)"
   ]
  },
  {
   "cell_type": "code",
   "execution_count": 40,
   "metadata": {},
   "outputs": [
    {
     "data": {
      "text/plain": [
       "'https://cdn6.aptoide.com/imgs/9/d/4/9d42391daecb952cdffaad185d9aae4b_icon.png?w=160'"
      ]
     },
     "execution_count": 40,
     "metadata": {},
     "output_type": "execute_result"
    }
   ],
   "source": [
    "div_container_main_html.find('img')['src']"
   ]
  },
  {
   "cell_type": "code",
   "execution_count": 38,
   "metadata": {},
   "outputs": [
    {
     "data": {
      "text/plain": [
       "<img alt=\"Games\" class=\"side-feature__FeatureIcon-zdzgtp-2 gFRWaT\" src=\"https://cdn-mobile.aptoide.com/static/imgs/games-ic.svg\"/>"
      ]
     },
     "execution_count": 38,
     "metadata": {},
     "output_type": "execute_result"
    }
   ],
   "source": [
    "stats_container"
   ]
  },
  {
   "cell_type": "code",
   "execution_count": null,
   "metadata": {},
   "outputs": [],
   "source": []
  }
 ],
 "metadata": {
  "kernelspec": {
   "display_name": "django",
   "language": "python",
   "name": "django"
  },
  "language_info": {
   "codemirror_mode": {
    "name": "ipython",
    "version": 3
   },
   "file_extension": ".py",
   "mimetype": "text/x-python",
   "name": "python",
   "nbconvert_exporter": "python",
   "pygments_lexer": "ipython3",
   "version": "3.10.4"
  },
  "orig_nbformat": 4,
  "vscode": {
   "interpreter": {
    "hash": "916dbcbb3f70747c44a77c7bcd40155683ae19c65e1c03b4aa3499c5328201f1"
   }
  }
 },
 "nbformat": 4,
 "nbformat_minor": 2
}
